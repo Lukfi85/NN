{
 "cells": [
  {
   "cell_type": "code",
   "execution_count": 47,
   "id": "df70bd63",
   "metadata": {},
   "outputs": [],
   "source": [
    "from transformers import Trainer, TrainingArguments, AutoModelForCausalLM\n",
    "from transformers import AutoTokenizer"
   ]
  },
  {
   "cell_type": "code",
   "execution_count": 48,
   "id": "3b17fb4b",
   "metadata": {},
   "outputs": [],
   "source": [
    "from telegram import Update\n",
    "from telegram.ext import Updater, CommandHandler, MessageHandler, Filters, CallbackContext"
   ]
  },
  {
   "cell_type": "code",
   "execution_count": 49,
   "id": "98b4c326",
   "metadata": {},
   "outputs": [],
   "source": [
    "dir_ = \"./model\""
   ]
  },
  {
   "cell_type": "code",
   "execution_count": 50,
   "id": "aecc6d69",
   "metadata": {},
   "outputs": [
    {
     "name": "stderr",
     "output_type": "stream",
     "text": [
      "Special tokens have been added in the vocabulary, make sure the associated word embeddings are fine-tuned or trained.\n"
     ]
    }
   ],
   "source": [
    "model = AutoModelForCausalLM.from_pretrained(dir_,local_files_only=True)\n",
    "tokenizer = AutoTokenizer.from_pretrained(\"sberbank-ai/rugpt3medium_based_on_gpt2\")"
   ]
  },
  {
   "cell_type": "code",
   "execution_count": 51,
   "id": "21029270",
   "metadata": {},
   "outputs": [],
   "source": [
    "telegram_token ='1905825462:AAFM0JI-F2RlvENDAOQV-7zumbTcwW6ODv4'"
   ]
  },
  {
   "cell_type": "code",
   "execution_count": 52,
   "id": "80e55561",
   "metadata": {},
   "outputs": [],
   "source": [
    "welcome_text = 'Добрый день!! Вас приветствует бот, который генерирует сказки.  Для его обучения были взяты следующие сказки А.С. Пушкина:\\\n",
    "Руслан и Людмила, Сказка о золотом петушке, Сказка о мёртвой царевне, Сказка о попе и работнике его Балде\\\n",
    ", Сказка о царе Салтане. Задайте начальную фразу, например \"И днем и ночью кот ученый\", и получите продолжение длинной около 100 слов. Ответ занмает около 20-30 секунд. Спасибо!'"
   ]
  },
  {
   "cell_type": "code",
   "execution_count": 53,
   "id": "334705fd",
   "metadata": {},
   "outputs": [],
   "source": [
    "def startCommand(update: Update, context: CallbackContext):\n",
    "    update.message.reply_text(welcome_text)"
   ]
  },
  {
   "cell_type": "code",
   "execution_count": 54,
   "id": "b5d60be7",
   "metadata": {},
   "outputs": [],
   "source": [
    "def Fairy_tale(update: Update, context: CallbackContext):\n",
    "    prefix = update.message.text\n",
    "    \n",
    "    tokens = tokenizer(prefix, return_tensors='pt')\n",
    "    tokens = {k: v.to(model.device) for k, v in tokens.items()}\n",
    "    size = tokens['input_ids'].shape[1]\n",
    "    output = model.generate(\n",
    "    **tokens, \n",
    "    #end_token=end_token_id,\n",
    "    do_sample=False, \n",
    "    max_length=size+100, \n",
    "    repetition_penalty=5., \n",
    "    temperature=0.4,\n",
    "    num_beams=10,)\n",
    "\n",
    "    decoded = tokenizer.decode(output[0])\n",
    "    result = decoded[len(prefix):]\n",
    "    result =  prefix + result\n",
    "    \n",
    "    \n",
    "    update.message.reply_text(result)"
   ]
  },
  {
   "cell_type": "code",
   "execution_count": 55,
   "id": "15793ec6",
   "metadata": {},
   "outputs": [],
   "source": [
    "updater = Updater(telegram_token, use_context=True)"
   ]
  },
  {
   "cell_type": "code",
   "execution_count": 56,
   "id": "e9c264b0",
   "metadata": {},
   "outputs": [],
   "source": [
    "updater.dispatcher.add_handler(CommandHandler('start', startCommand))"
   ]
  },
  {
   "cell_type": "code",
   "execution_count": 57,
   "id": "761bde96",
   "metadata": {},
   "outputs": [],
   "source": [
    "updater.dispatcher.add_handler(MessageHandler(Filters.text, Fairy_tale))"
   ]
  },
  {
   "cell_type": "code",
   "execution_count": null,
   "id": "ecb25b70",
   "metadata": {},
   "outputs": [
    {
     "name": "stderr",
     "output_type": "stream",
     "text": [
      "Setting `pad_token_id` to `eos_token_id`:50256 for open-end generation.\n",
      "Setting `pad_token_id` to `eos_token_id`:50256 for open-end generation.\n",
      "Setting `pad_token_id` to `eos_token_id`:50256 for open-end generation.\n",
      "Setting `pad_token_id` to `eos_token_id`:50256 for open-end generation.\n"
     ]
    }
   ],
   "source": [
    "updater.start_polling()\n",
    "updater.idle()"
   ]
  },
  {
   "cell_type": "code",
   "execution_count": null,
   "id": "2722c961",
   "metadata": {},
   "outputs": [],
   "source": []
  }
 ],
 "metadata": {
  "kernelspec": {
   "display_name": "Python 3",
   "language": "python",
   "name": "python3"
  },
  "language_info": {
   "codemirror_mode": {
    "name": "ipython",
    "version": 3
   },
   "file_extension": ".py",
   "mimetype": "text/x-python",
   "name": "python",
   "nbconvert_exporter": "python",
   "pygments_lexer": "ipython3",
   "version": "3.8.10"
  }
 },
 "nbformat": 4,
 "nbformat_minor": 5
}
